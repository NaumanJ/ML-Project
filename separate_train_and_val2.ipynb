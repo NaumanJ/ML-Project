{
 "cells": [
  {
   "cell_type": "code",
   "execution_count": null,
   "metadata": {},
   "outputs": [],
   "source": [
    "### use this command in the terminal to turn this notebook to a py file:\n",
    "### jupyter nbconvert --to script 'separate_train_and_val2.ipynb'"
   ]
  },
  {
   "cell_type": "code",
   "execution_count": null,
   "metadata": {},
   "outputs": [],
   "source": [
    "import os\n",
    "import numpy as np\n",
    "import shutil\n",
    "import math\n",
    "import glob\n",
    "import re\n",
    "import argparse"
   ]
  },
  {
   "cell_type": "code",
   "execution_count": null,
   "metadata": {},
   "outputs": [],
   "source": [
    "VAL_DATASET_PERCENT = 5"
   ]
  },
  {
   "cell_type": "code",
   "execution_count": null,
   "metadata": {},
   "outputs": [],
   "source": [
    "input_dir = \"./train_set/\"\n",
    "output_dir = \"./train_val_set/\"\n",
    "labelbox_class_names = [\"healthy_leaves\", \"unhealthy_leaf\", \"black_sigatoka\"]"
   ]
  },
  {
   "cell_type": "code",
   "execution_count": null,
   "metadata": {},
   "outputs": [],
   "source": [
    "def get_val_files(class_name, dir, val_percent):\n",
    "    class_files = list(map(\n",
    "        (lambda x: os.path.basename(x)),\n",
    "        glob.glob('{}/images/*_class_{}*'.format(dir, class_name))\n",
    "    ))\n",
    "\n",
    "    return set(np.random.choice(\n",
    "        class_files,\n",
    "        int(math.ceil(val_percent/ 100 * len(class_files)))\n",
    "    ))"
   ]
  },
  {
   "cell_type": "code",
   "execution_count": null,
   "metadata": {},
   "outputs": [],
   "source": [
    "def normalise_class_name(class_name):\n",
    "    class_name = re.sub('/', '-', class_name)\n",
    "    class_name = re.sub(' ', '_', class_name)\n",
    "    return class_name"
   ]
  },
  {
   "cell_type": "code",
   "execution_count": null,
   "metadata": {},
   "outputs": [],
   "source": [
    "train_dir = os.path.join(output_dir, 'stage1_train')\n",
    "val_dir = os.path.join(output_dir, 'val')"
   ]
  },
  {
   "cell_type": "code",
   "execution_count": null,
   "metadata": {},
   "outputs": [],
   "source": [
    "# remove any dataset from previous run\n",
    "if os.path.exists(train_dir):\n",
    "    shutil.rmtree(train_dir)\n",
    "if os.path.exists(val_dir):\n",
    "    shutil.rmtree(val_dir)"
   ]
  },
  {
   "cell_type": "code",
   "execution_count": null,
   "metadata": {},
   "outputs": [],
   "source": [
    "os.makedirs(train_dir)\n",
    "os.makedirs(val_dir)"
   ]
  },
  {
   "cell_type": "code",
   "execution_count": null,
   "metadata": {},
   "outputs": [],
   "source": [
    "all_files = os.listdir(os.path.join(input_dir, 'images'))"
   ]
  },
  {
   "cell_type": "code",
   "execution_count": null,
   "metadata": {},
   "outputs": [],
   "source": [
    "val_files = []\n",
    "for class_name in labelbox_class_names:\n",
    "    val_files.extend(get_val_files(\n",
    "        normalise_class_name(class_name),\n",
    "        input_dir,\n",
    "        VAL_DATASET_PERCENT\n",
    "    ))"
   ]
  },
  {
   "cell_type": "code",
   "execution_count": null,
   "metadata": {},
   "outputs": [],
   "source": [
    "for val_file in val_files:\n",
    "    target_image_dir = os.path.join(val_dir, val_file, 'images')\n",
    "    os.makedirs(target_image_dir)\n",
    "\n",
    "    shutil.copy(\n",
    "        os.path.join(input_dir, 'images', val_file),\n",
    "        os.path.join(target_image_dir, val_file)\n",
    "    )\n",
    "\n",
    "    target_mask_dir = os.path.join(val_dir, val_file, 'masks')\n",
    "    os.makedirs(target_mask_dir)\n",
    "\n",
    "    shutil.copy(\n",
    "        os.path.join(input_dir, 'masks', val_file),\n",
    "        os.path.join(target_mask_dir, val_file)\n",
    "    )\n",
    "\n",
    "for train_file in (set(all_files) - set(val_files)):\n",
    "    target_image_dir = os.path.join(train_dir, train_file, 'images')\n",
    "    os.makedirs(target_image_dir)\n",
    "\n",
    "    shutil.copy(\n",
    "        os.path.join(input_dir, 'images', train_file),\n",
    "        os.path.join(target_image_dir, train_file)\n",
    "    )\n",
    "\n",
    "    target_mask_dir = os.path.join(train_dir, train_file, 'masks')\n",
    "    os.makedirs(target_mask_dir)\n",
    "\n",
    "    shutil.copy(\n",
    "        os.path.join(input_dir, 'masks', train_file),\n",
    "        os.path.join(target_mask_dir, train_file)\n",
    "    )"
   ]
  },
  {
   "cell_type": "code",
   "execution_count": null,
   "metadata": {},
   "outputs": [],
   "source": []
  }
 ],
 "metadata": {
  "kernelspec": {
   "display_name": "Python 3",
   "language": "python",
   "name": "python3"
  },
  "language_info": {
   "codemirror_mode": {
    "name": "ipython",
    "version": 3
   },
   "file_extension": ".py",
   "mimetype": "text/x-python",
   "name": "python",
   "nbconvert_exporter": "python",
   "pygments_lexer": "ipython3",
   "version": "3.8.3"
  }
 },
 "nbformat": 4,
 "nbformat_minor": 4
}
