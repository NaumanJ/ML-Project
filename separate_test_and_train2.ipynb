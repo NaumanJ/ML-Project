{
 "cells": [
  {
   "cell_type": "code",
   "execution_count": null,
   "metadata": {},
   "outputs": [],
   "source": [
    "'''\n",
    "jupyter nbconvert --to script 'separate_test_and_train.ipynb'\n",
    "'''"
   ]
  },
  {
   "cell_type": "code",
   "execution_count": 1,
   "metadata": {},
   "outputs": [],
   "source": [
    "import os\n",
    "import numpy as np\n",
    "import shutil\n",
    "import math\n",
    "import glob\n",
    "import re"
   ]
  },
  {
   "cell_type": "code",
   "execution_count": 2,
   "metadata": {},
   "outputs": [],
   "source": [
    "TEST_DATASET_PERCENT = 20"
   ]
  },
  {
   "cell_type": "code",
   "execution_count": 3,
   "metadata": {},
   "outputs": [],
   "source": [
    "labelbox_output_dir = \"./output/\"\n",
    "image_splitter_output_dir = \"./first_predictions/\"\n",
    "output_test_dir = \"./test_set/\"\n",
    "output_augmentation_dir = \"./to_be_augmented/\"\n",
    "labelbox_class_names = [\"healthy_leaves\", \"unhealthy_leaf\", \"black_sigatoka\"]"
   ]
  },
  {
   "cell_type": "code",
   "execution_count": 4,
   "metadata": {},
   "outputs": [],
   "source": [
    "def get_splitted_test_files(image_class):\n",
    "    all_labelbox_files =  list(map(\n",
    "        (lambda x: os.path.basename(x)),\n",
    "        glob.glob('{}/images/*_class_{}*'.format(labelbox_output_dir, image_class))\n",
    "    ))\n",
    "\n",
    "    labelbox_test_files = set(np.random.choice(\n",
    "        all_labelbox_files, int(math.ceil(TEST_DATASET_PERCENT / 100 * len(all_labelbox_files)))\n",
    "    ))\n",
    "\n",
    "    splitted_test_files = []\n",
    "    for labelbox_test_file in labelbox_test_files:\n",
    "        splitted_test_files.extend(\n",
    "            map(\n",
    "                (lambda x: os.path.basename(x)),\n",
    "                glob.glob('{}/images/{}*'.format(image_splitter_output_dir, os.path.splitext(labelbox_test_file)[0]))\n",
    "            )\n",
    "        )\n",
    "    return splitted_test_files"
   ]
  },
  {
   "cell_type": "code",
   "execution_count": 5,
   "metadata": {},
   "outputs": [],
   "source": [
    "def normalise_class_name(class_name):\n",
    "    class_name = re.sub('/', '-', class_name)\n",
    "    class_name = re.sub(' ', '_', class_name)\n",
    "    return class_name"
   ]
  },
  {
   "cell_type": "code",
   "execution_count": 6,
   "metadata": {},
   "outputs": [],
   "source": [
    "splitted_all_files = os.listdir(os.path.join(image_splitter_output_dir, 'images'))"
   ]
  },
  {
   "cell_type": "code",
   "execution_count": 7,
   "metadata": {},
   "outputs": [],
   "source": [
    "splitted_test_files =  []\n",
    "for class_name in labelbox_class_names:\n",
    "    splitted_test_files.extend(get_splitted_test_files(\n",
    "        normalise_class_name(class_name)\n",
    "    ))"
   ]
  },
  {
   "cell_type": "code",
   "execution_count": 8,
   "metadata": {},
   "outputs": [],
   "source": [
    "# remove any test dataset from previous run\n",
    "if os.path.exists(output_test_dir):\n",
    "    shutil.rmtree(output_test_dir)"
   ]
  },
  {
   "cell_type": "code",
   "execution_count": 9,
   "metadata": {},
   "outputs": [],
   "source": [
    "# and create clean slate dir\n",
    "os.makedirs(output_test_dir)\n",
    "for splitted_test_file in splitted_test_files:\n",
    "    target_image_dir = os.path.join(output_test_dir, splitted_test_file, 'images')\n",
    "    os.makedirs(target_image_dir)\n",
    "\n",
    "    shutil.copy(\n",
    "        os.path.join(image_splitter_output_dir, 'images', splitted_test_file),\n",
    "        os.path.join(target_image_dir, splitted_test_file)\n",
    "    )\n",
    "\n",
    "    target_mask_dir = os.path.join(output_test_dir, splitted_test_file, 'masks')\n",
    "    os.makedirs(target_mask_dir)\n",
    "\n",
    "    shutil.copy(\n",
    "        os.path.join(image_splitter_output_dir, 'masks', splitted_test_file),\n",
    "        os.path.join(target_mask_dir, splitted_test_file)\n",
    "    )"
   ]
  },
  {
   "cell_type": "code",
   "execution_count": 10,
   "metadata": {},
   "outputs": [],
   "source": [
    "target_augmentation_images_dir = os.path.join(output_augmentation_dir, 'images')\n",
    "target_augmentation_masks_dir = os.path.join(output_augmentation_dir, 'masks')"
   ]
  },
  {
   "cell_type": "code",
   "execution_count": 11,
   "metadata": {},
   "outputs": [],
   "source": [
    "# remove any augmentation input dirs for images and masks from previous run\n",
    "if os.path.exists(target_augmentation_images_dir):\n",
    "    shutil.rmtree(target_augmentation_images_dir)\n",
    "if os.path.exists(target_augmentation_masks_dir):\n",
    "    shutil.rmtree(target_augmentation_masks_dir)"
   ]
  },
  {
   "cell_type": "code",
   "execution_count": 12,
   "metadata": {},
   "outputs": [],
   "source": [
    "# and create clean slate dirs\n",
    "os.makedirs(target_augmentation_images_dir)\n",
    "os.makedirs(target_augmentation_masks_dir)"
   ]
  },
  {
   "cell_type": "code",
   "execution_count": 13,
   "metadata": {},
   "outputs": [],
   "source": [
    "for augmentation_file in (set(splitted_all_files) - set(splitted_test_files)):\n",
    "    shutil.copy(\n",
    "        os.path.join(image_splitter_output_dir, 'images', augmentation_file),\n",
    "        os.path.join(target_augmentation_images_dir, augmentation_file)\n",
    "    )\n",
    "\n",
    "    shutil.copy(\n",
    "        os.path.join(image_splitter_output_dir, 'masks', augmentation_file),\n",
    "        os.path.join(target_augmentation_masks_dir, augmentation_file)\n",
    "    )"
   ]
  },
  {
   "cell_type": "code",
   "execution_count": null,
   "metadata": {},
   "outputs": [],
   "source": []
  }
 ],
 "metadata": {
  "kernelspec": {
   "display_name": "Python 3",
   "language": "python",
   "name": "python3"
  },
  "language_info": {
   "codemirror_mode": {
    "name": "ipython",
    "version": 3
   },
   "file_extension": ".py",
   "mimetype": "text/x-python",
   "name": "python",
   "nbconvert_exporter": "python",
   "pygments_lexer": "ipython3",
   "version": "3.8.3"
  }
 },
 "nbformat": 4,
 "nbformat_minor": 4
}
